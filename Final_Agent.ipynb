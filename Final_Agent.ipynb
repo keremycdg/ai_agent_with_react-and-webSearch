{
  "nbformat": 4,
  "nbformat_minor": 0,
  "metadata": {
    "colab": {
      "provenance": []
    },
    "kernelspec": {
      "name": "python3",
      "display_name": "Python 3"
    },
    "language_info": {
      "name": "python"
    }
  },
  "cells": [
    {
      "cell_type": "code",
      "execution_count": null,
      "metadata": {
        "id": "syB-ItJOgh7o"
      },
      "outputs": [],
      "source": [
        "!pip install --upgrade google-search-results\n",
        "!pip install --upgrade openai\n",
        "!pip install --upgrade azure-core\n",
        "!pip install --upgrade requests\n",
        "!pip install --upgrade beautifulsoup4"
      ]
    },
    {
      "cell_type": "code",
      "source": [
        "import os, time, datetime, requests, bs4, re, urllib.parse\n",
        "from typing import List\n",
        "from openai import AzureOpenAI\n",
        "from serpapi import GoogleSearch\n",
        "from openai._exceptions import RateLimitError\n",
        "\n",
        "os.environ[\"SERPAPI_KEY\"]  = \"\" #Paste your SerpAPI key here.\n",
        "os.environ[\"AZURE_OPENAI_KEY\"] = \"\" #Paste your Azure AI Foundry API Key here.\n",
        "\n",
        "# ── API KEYS ─────────────────────────────────────\n",
        "SERP_API_KEY = os.getenv(\"SERPAPI_KEY\")\n",
        "AZURE_KEY    = os.getenv(\"AZURE_OPENAI_KEY\")\n",
        "\n",
        "client = AzureOpenAI(\n",
        "    api_key=AZURE_KEY,\n",
        "    api_version=\"\", #Copy and paste the version listed on deployments on your Azure AI Foundry Deployments page.\n",
        "    azure_endpoint=\"\", #Copy and paste your endpoint that ends with .azure.com\n",
        ")\n",
        "\n",
        "# ── LLM helper ───────────────────────────────────\n",
        "def chat(msgs, T=0.7, retries=3):\n",
        "    for _ in range(retries):\n",
        "        try:\n",
        "            r = client.chat.completions.create(\n",
        "                model=\"itai-2376\", messages=msgs,\n",
        "                max_tokens=512, temperature=T, top_p=1.0\n",
        "            )\n",
        "            return r.choices[0].message.content\n",
        "        except RateLimitError as e:\n",
        "            time.sleep(getattr(e, \"retry_after\", 5))\n",
        "    raise RuntimeError(\"LLM rate‑limit\")\n",
        "\n",
        "# ── SEARCH LAYERS ───────────────────────────────\n",
        "def serp_search(q:str, k:int=3)->List[dict]:\n",
        "    if not SERP_API_KEY: return []\n",
        "    try:\n",
        "        d = GoogleSearch({\"q\":q,\"api_key\":SERP_API_KEY,\"num\":k,\"hl\":\"en\"}).get_dict()\n",
        "        return [{\"title\":r[\"title\"],\"url\":r[\"link\"]}\n",
        "                for r in d.get(\"organic_results\",[])[:k]]\n",
        "    except Exception:\n",
        "        return []\n",
        "\n",
        "DDG = \"https://lite.duckduckgo.com/50x/?q={q}\"\n",
        "UA  = (\"Mozilla/5.0 (iPhone; CPU iPhone OS 15_0) AppleWebKit/605.1.15 \"\n",
        "       \"(KHTML, like Gecko) Version/15.0 Mobile/15E148 Safari/604.1\")\n",
        "def ddg_search(q:str, k:int=3)->List[dict]:\n",
        "    html=requests.get(DDG.format(q=urllib.parse.quote_plus(q)),\n",
        "                      headers={\"User-Agent\":UA},timeout=10).text\n",
        "    soup=bs4.BeautifulSoup(html,\"html.parser\")\n",
        "    links=soup.select(\"a.result-link--title\") or soup.select(\".result-link, .result-link--news\")\n",
        "    return [{\"title\":re.sub(r\"\\s+\",\" \",a.get_text(' ',strip=True)),\"url\":a['href']}\n",
        "            for a in links[:k]]\n",
        "\n",
        "def web_search(q:str, k:int=3)->str:\n",
        "    today=datetime.date.today().isoformat()\n",
        "    hit=serp_search(q,k)\n",
        "    if hit:\n",
        "        print(\"🔍 SerpAPI hit\")\n",
        "        return \"\\n\".join(f\"[{i}] {h['title']} – {h['url']} ({today})\"\n",
        "                         for i,h in enumerate(hit,1))\n",
        "    hit=ddg_search(q,k)\n",
        "    if hit:\n",
        "        print(\"🌐 DuckDuckGo hit\")\n",
        "        return \"\\n\".join(f\"[{i}] {h['title']} – {h['url']} ({today})\"\n",
        "                         for i,h in enumerate(hit,1))\n",
        "    return f\"[1] No results found ({today})\"\n",
        "\n",
        "# ── ReAct agent (SEARCH → SUMMARIZE) ────────────\n",
        "def research(question:str, max_turns:int=6):\n",
        "    msgs=[{\"role\":\"system\",\"content\":\n",
        "           (\"First output SEARCH:<keywords>. After I return the sources, output \"\n",
        "            \"SUMMARIZE:<draft answer>.\\n\"\n",
        "            \"Use inline citations [1] [2] … and copy the numbered list beneath \"\n",
        "            \"a 'Sources:' heading.\")},\n",
        "          {\"role\":\"user\",\"content\":question}]\n",
        "    stage, turns, last_text, sources_block = 0, 0, \"\", \"\"\n",
        "\n",
        "    while True:\n",
        "        if turns >= max_turns:\n",
        "            return last_text or \"⚠️ No summarized answer after retries.\"\n",
        "        resp=chat(msgs); turns+=1; last_text=resp\n",
        "        first=resp.lstrip().splitlines()[0].strip()\n",
        "\n",
        "        # ---- SEARCH ----\n",
        "        if stage==0 and first.startswith(\"SEARCH:\"):\n",
        "            sources_block = web_search(first[7:].strip())\n",
        "            msgs[-1:]=[\n",
        "                {\"role\":\"assistant\",\"content\":sources_block},\n",
        "                {\"role\":\"assistant\",\n",
        "                 \"content\":(\"Now output SUMMARIZE:<draft answer> with inline citations \"\n",
        "                            \"and include the numbered list under 'Sources:'.\")}\n",
        "            ]\n",
        "            stage=1; continue\n",
        "\n",
        "        # ---- SUMMARIZE ----\n",
        "        if stage==1 and first.startswith(\"SUMMARIZE:\"):\n",
        "            draft = first[10:].strip()\n",
        "            if \"Sources:\" not in draft:               # auto‑append if missing\n",
        "                draft += \"\\n\\nSources:\\n\" + sources_block\n",
        "            return draft\n",
        "\n",
        "        # ---- remind when off‑track ----\n",
        "        reminder = \"Begin with SEARCH:<keywords>.\" if stage==0 else \"Awaiting SUMMARIZE:<draft>.\"\n",
        "        msgs.append({\"role\":\"assistant\",\"content\":reminder})\n",
        "\n",
        "## Ask your questions here.\n",
        "# ── Demo -----------------------------------------\n",
        "if __name__==\"__main__\":\n",
        "    answer = research(\"Who is George Washgington?\")\n",
        "    print(\"\\n✅ FINAL ANSWER:\\n\", answer)\n"
      ],
      "metadata": {
        "colab": {
          "base_uri": "https://localhost:8080/"
        },
        "id": "j1a6MyhrgjrS",
        "outputId": "32933eea-0cef-4017-d8ee-e1fb92b3533d"
      },
      "execution_count": null,
      "outputs": [
        {
          "output_type": "stream",
          "name": "stdout",
          "text": [
            "🔍 SerpAPI hit\n",
            "\n",
            "✅ FINAL ANSWER:\n",
            " George Washington, the first President of the United States, served two terms from 1789 to 1797. Born on February 22, 1732, in Westmoreland County, Virginia, he was a pivotal figure in the founding of the nation. Prior to his presidency, Washington played a crucial role as the Commander-in-Chief of the Continental Army during the American Revolutionary War, leading the colonies to victory against the British [1][2]. His presidency set many precedents for the national government and the future officeholders. Washington's leadership style and decisions during his presidency established many forms of protocol and decorum that are still followed today [1][2][3]. Despite facing various challenges, such as the Whiskey Rebellion, his administration succeeded in laying down the strong foundations of the new government in line with the US Constitution. Washington retired after his second term, establishing the tradition of a peaceful transfer of power [2][3].\n",
            "\n",
            "Sources:\n",
            "[1] Biography of George Washington – https://www.mountvernon.org/george-washington/biography (2025-05-07)\n",
            "[2] George Washington | Life, Presidency, Accomplishments, & ... – https://www.britannica.com/biography/George-Washington (2025-05-07)\n",
            "[3] George Washington – https://www.thenmusa.org/biographies/george-washington/ (2025-05-07)\n"
          ]
        }
      ]
    },
    {
      "cell_type": "code",
      "source": [],
      "metadata": {
        "id": "gdRScW3-g4iP"
      },
      "execution_count": null,
      "outputs": []
    }
  ]
}